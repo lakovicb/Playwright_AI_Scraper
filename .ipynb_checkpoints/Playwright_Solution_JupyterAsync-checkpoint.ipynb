{
 "cells": [
  {
   "cell_type": "markdown",
   "id": "6aafc356",
   "metadata": {},
   "source": [
    "# Playwright Scraper Showcase (Async in Jupyter)\n",
    "\n",
    "This notebook demonstrates how to run async Playwright-based scraping code inside JupyterLab using `nest_asyncio`.\n",
    "\n",
    "**Note:** Requires `openai_scraper_playwright.py` to be in the same directory."
   ]
  },
  {
   "cell_type": "code",
   "execution_count": null,
   "id": "97469777",
   "metadata": {},
   "outputs": [],
   "source": [
    "import nest_asyncio\n",
    "import asyncio\n",
    "nest_asyncio.apply()"
   ]
  },
  {
   "cell_type": "code",
   "execution_count": null,
   "id": "6254fa89",
   "metadata": {},
   "outputs": [],
   "source": [
    "from openai_scraper_playwright import EnhancedOpenAIScraper, analyze_content"
   ]
  },
  {
   "cell_type": "code",
   "execution_count": null,
   "id": "33d2737b",
   "metadata": {},
   "outputs": [],
   "source": [
    "result = asyncio.run(analyze_content())\n",
    "print(result)"
   ]
  },
  {
   "cell_type": "markdown",
   "id": "d7450ccf",
   "metadata": {},
   "source": [
    "✅ If you see structured analysis above, the async code ran successfully in Jupyter!"
   ]
  }
 ],
 "metadata": {
  "kernelspec": {
   "display_name": "Python 3",
   "name": "python3"
  }
 },
 "nbformat": 4,
 "nbformat_minor": 5
}
