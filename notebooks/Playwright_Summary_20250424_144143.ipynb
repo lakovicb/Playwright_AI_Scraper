{
 "cells": [
  {
   "cell_type": "markdown",
   "id": "c67fbd11",
   "metadata": {},
   "source": [
    "# ✅ Playwright Scraper Showcase (Auto-Generated)\n",
    "\n",
    "This notebook demonstrates asynchronous scraping and\n",
    "summarization of:\n",
    "\n",
    "**URL:** `https://huggingface.co`"
   ]
  },
  {
   "cell_type": "code",
   "execution_count": null,
   "id": "71f05e64",
   "metadata": {},
   "outputs": [],
   "source": [
    "from pathlib import Path\n",
    "import os\n",
    "import importlib\n",
    "import asyncio\n",
    "import nest_asyncio\n",
    "\n",
    "nest_asyncio.apply()\n",
    "\n",
    "# Add scraper module path\n",
    "scraper_path = Path(\"/home/lakov/projects/llm_engineering/\") / \"community-contributions/playwright-bojan\"\n",
    "if str(scraper_path) not in sys.path:\n",
    "    import sys\n",
    "    sys.path.insert(0, str(scraper_path))\n",
    "\n",
    "# Clear cache if needed\n",
    "if 'openai_scraper_playwright' in sys.modules:\n",
    "    del sys.modules['openai_scraper_playwright']\n",
    "\n",
    "from openai_scraper_playwright import analyze_content"
   ]
  },
  {
   "cell_type": "code",
   "execution_count": null,
   "id": "030b9f8f",
   "metadata": {},
   "outputs": [],
   "source": [
    "result = await analyze_content(url=\"https://huggingface.co\")\n",
    "from IPython.display import Markdown, display\n",
    "display(Markdown(result))"
   ]
  }
 ],
 "metadata": {},
 "nbformat": 4,
 "nbformat_minor": 5
}
