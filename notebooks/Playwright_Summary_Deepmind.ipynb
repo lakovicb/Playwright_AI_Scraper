{
 "cells": [
  {
   "cell_type": "markdown",
   "id": "e8d31e36",
   "metadata": {},
   "source": [
    "# ✅ Playwright Scraper Showcase (Auto-Generated)\n",
    "\n",
    "This notebook demonstrates asynchronous scraping and\n",
    "summarization of:\n",
    "\n",
    "**URL:** `https://deepmind.google`"
   ]
  },
  {
   "cell_type": "code",
   "execution_count": 1,
   "id": "be82196f",
   "metadata": {},
   "outputs": [],
   "source": [
    "from pathlib import Path\n",
    "import os\n",
    "import importlib\n",
    "import asyncio\n",
    "import nest_asyncio\n",
    "\n",
    "nest_asyncio.apply()\n",
    "\n",
    "# Add scraper module path\n",
    "scraper_path = Path(\"/home/lakov/projects/llm_engineering/\") / \"community-contributions/playwright-bojan\"\n",
    "if str(scraper_path) not in sys.path:\n",
    "    import sys\n",
    "    sys.path.insert(0, str(scraper_path))\n",
    "\n",
    "# Clear cache if needed\n",
    "if 'openai_scraper_playwright' in sys.modules:\n",
    "    del sys.modules['openai_scraper_playwright']\n",
    "\n",
    "from openai_scraper_playwright import analyze_content"
   ]
  },
  {
   "cell_type": "code",
   "execution_count": 2,
   "id": "30f03a72",
   "metadata": {},
   "outputs": [
    {
     "data": {
      "text/markdown": [
       "The page from DeepMind, a subsidiary of Google, serves as a hub for showcasing their latest advancements and projects in artificial intelligence (AI). Here's a detailed analysis of the content and structure of the page:\n",
       "\n",
       "### Content Overview\n",
       "1. **Introduction to Gemini 2.5**: The page highlights \"Gemini 2.5,\" described as an advanced AI model designed for the \"agentic era,\" suggesting a focus on AI agents that can operate autonomously.\n",
       "\n",
       "2. **Technological Developments**:\n",
       "   - **Gemini 2.5 Flash**: Introduced as a hybrid reasoning model that allows developers to toggle its reasoning capabilities.\n",
       "   - **Video Generation**: Features like transforming text prompts into videos and animating images are mentioned, showcasing their capabilities in multimedia AI applications.\n",
       "\n",
       "3. **Research Innovations**:\n",
       "   - **DolphinGemma**: A project where AI is used to decode dolphin communications, indicating DeepMind's involvement in interspecies communication research.\n",
       "\n",
       "4. **Product and Technology Descriptions**:\n",
       "   - **Gemini Robotics**: Mention of robotics applications using Gemini 2.0 models.\n",
       "   - **Other AI Models**: Brief mentions of other models like Gemma, Imagen, and Veo, each serving different purposes like responsible AI development, text-to-image, and video generation respectively.\n",
       "   - **Project Astra and Project Mariner**: These are prototypes exploring AI capabilities in universal assistance and human-agent interaction.\n",
       "\n",
       "5. **AI Ethics and Responsibility**:\n",
       "   - The page emphasizes the importance of responsible AI development and deployment, highlighting their commitment to safety and ethical principles.\n",
       "\n",
       "6. **Additional Resources and Links**:\n",
       "   - Links to other Google AI initiatives, developer resources, and more detailed information about their technologies and research projects.\n",
       "\n",
       "### Structure and Design\n",
       "- **Navigation and Accessibility**: The page is structured with clear navigation options, including a search bar and categorized links (About, Research, Technologies, etc.), making it user-friendly and accessible.\n",
       "- **Engagement Features**: Options to chat with AI models and sign up for updates encourage user interaction and engagement.\n",
       "- **Visual and Textual Balance**: The use of headings, brief descriptions, and dates helps in providing a clear, concise overview without overwhelming the reader with technical jargon.\n",
       "\n",
       "### Purpose and Audience\n",
       "- **Purpose**: The primary purpose is to inform visitors about DeepMind's latest AI technologies and projects, and to establish its position as a leader in AI research and ethical AI development.\n",
       "- **Audience**: The content is likely aimed at a broad audience, including tech enthusiasts, developers, researchers, and potentially investors interested in the latest trends in AI technology.\n",
       "\n",
       "### Overall Impression\n",
       "The page effectively communicates DeepMind's cutting-edge work in AI, balancing technical information with general insights into their ethical approach and future projects. It serves as both an informational resource and a promotional tool for their AI technologies and principles."
      ],
      "text/plain": [
       "<IPython.core.display.Markdown object>"
      ]
     },
     "metadata": {},
     "output_type": "display_data"
    }
   ],
   "source": [
    "result = await analyze_content(url=\"https://deepmind.google\")\n",
    "from IPython.display import Markdown, display\n",
    "display(Markdown(result))"
   ]
  },
  {
   "cell_type": "code",
   "execution_count": null,
   "id": "0413a1d5-6082-4e7d-a5df-452f112b4c10",
   "metadata": {},
   "outputs": [],
   "source": []
  }
 ],
 "metadata": {
  "kernelspec": {
   "display_name": "Python (WSL-Lakov)",
   "language": "python",
   "name": "lakov-wsl"
  },
  "language_info": {
   "codemirror_mode": {
    "name": "ipython",
    "version": 3
   },
   "file_extension": ".py",
   "mimetype": "text/x-python",
   "name": "python",
   "nbconvert_exporter": "python",
   "pygments_lexer": "ipython3",
   "version": "3.12.7"
  }
 },
 "nbformat": 4,
 "nbformat_minor": 5
}
