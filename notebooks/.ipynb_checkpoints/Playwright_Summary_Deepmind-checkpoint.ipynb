{
 "cells": [
  {
   "cell_type": "markdown",
   "id": "e8d31e36",
   "metadata": {},
   "source": [
    "# ✅ Playwright Scraper Showcase (Auto-Generated)\n",
    "\n",
    "This notebook demonstrates asynchronous scraping and\n",
    "summarization of:\n",
    "\n",
    "**URL:** `https://deepmind.google`"
   ]
  },
  {
   "cell_type": "code",
   "execution_count": null,
   "id": "be82196f",
   "metadata": {},
   "outputs": [],
   "source": [
    "from pathlib import Path\n",
    "import os\n",
    "import importlib\n",
    "import asyncio\n",
    "import nest_asyncio\n",
    "\n",
    "nest_asyncio.apply()\n",
    "\n",
    "# Add scraper module path\n",
    "scraper_path = Path(\"/home/lakov/projects/llm_engineering/\") / \"community-contributions/playwright-bojan\"\n",
    "if str(scraper_path) not in sys.path:\n",
    "    import sys\n",
    "    sys.path.insert(0, str(scraper_path))\n",
    "\n",
    "# Clear cache if needed\n",
    "if 'openai_scraper_playwright' in sys.modules:\n",
    "    del sys.modules['openai_scraper_playwright']\n",
    "\n",
    "from openai_scraper_playwright import analyze_content"
   ]
  },
  {
   "cell_type": "code",
   "execution_count": null,
   "id": "30f03a72",
   "metadata": {},
   "outputs": [],
   "source": [
    "result = await analyze_content(url=\"https://deepmind.google\")\n",
    "from IPython.display import Markdown, display\n",
    "display(Markdown(result))"
   ]
  }
 ],
 "metadata": {},
 "nbformat": 4,
 "nbformat_minor": 5
}
