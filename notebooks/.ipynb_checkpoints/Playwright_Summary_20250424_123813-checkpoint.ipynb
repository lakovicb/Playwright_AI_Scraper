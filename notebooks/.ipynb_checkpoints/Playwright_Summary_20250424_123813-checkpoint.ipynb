{
 "cells": [
  {
   "cell_type": "markdown",
   "id": "7ba1908b",
   "metadata": {},
   "source": [
    "# ✅ Playwright Scraper Showcase (Auto-Generated)\n",
    "\n",
    "This notebook demonstrates an asynchronous scraping and summarization of:\n",
    "\n",
    "**URL:** `https://openai.com`\n",
    "\n",
    "----"
   ]
  },
  {
   "cell_type": "code",
   "execution_count": null,
   "id": "3016cccd",
   "metadata": {},
   "outputs": [],
   "source": [
    "import sys\n",
    "import os\n",
    "from pathlib import Path\n",
    "\n",
    "# Podesi put do lokalnog scrapper modula\n",
    "scraper_path = Path(\n",
    "    \"/home/lakov/projects/llm_engineering/community-contributions/playwright-bojan\")\n",
    "if str(scraper_path) not in sys.path:\n",
    "    sys.path.insert(0, str(scraper_path))\n",
    "\n",
    "# Osvježi modul ako je već učitan\n",
    "if \"openai_scraper_playwright\" in sys.modules:\n",
    "    del sys.modules[\"openai_scraper_playwright\"]\n",
    "\n",
    "import asyncio\n",
    "import nest_asyncio\n",
    "nest_asyncio.apply()\n",
    "\n",
    "from openai_scraper_playwright import analyze_content"
   ]
  },
  {
   "cell_type": "code",
   "execution_count": null,
   "id": "98bf6d1a",
   "metadata": {},
   "outputs": [],
   "source": [
    "result = await analyze_content(url=\"https://openai.com\")\n",
    "\n",
    "from IPython.display import Markdown, display\n",
    "display(Markdown(result))"
   ]
  }
 ],
 "metadata": {},
 "nbformat": 4,
 "nbformat_minor": 5
}
