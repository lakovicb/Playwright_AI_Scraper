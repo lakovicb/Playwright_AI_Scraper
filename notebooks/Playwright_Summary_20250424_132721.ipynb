{
 "cells": [
  {
   "cell_type": "markdown",
   "id": "9f6f566c",
   "metadata": {},
   "source": [
    "# ✅ Playwright Scraper Showcase (Auto-Generated)\n",
    "\n",
    "This notebook demonstrates asynchronous scraping and\n",
    "summarization of:\n",
    "\n",
    "**URL:** `https://openai.com`"
   ]
  },
  {
   "cell_type": "code",
   "execution_count": 1,
   "id": "8073a1f4",
   "metadata": {},
   "outputs": [
    {
     "ename": "SyntaxError",
     "evalue": "unterminated string literal (detected at line 10) (3193207861.py, line 10)",
     "output_type": "error",
     "traceback": [
      "\u001b[0;36m  Cell \u001b[0;32mIn[1], line 10\u001b[0;36m\u001b[0m\n\u001b[0;31m    scraper_path = Path(\"/home/lakov/projects/llm_engineering/\u001b[0m\n\u001b[0m                        ^\u001b[0m\n\u001b[0;31mSyntaxError\u001b[0m\u001b[0;31m:\u001b[0m unterminated string literal (detected at line 10)\n"
     ]
    }
   ],
   "source": [
    "from pathlib import Path\n",
    "import os\n",
    "import importlib\n",
    "import asyncio\n",
    "import nest_asyncio\n",
    "\n",
    "nest_asyncio.apply()\n",
    "\n",
    "# Add scraper module path\n",
    "scraper_path = Path(\"/home/lakov/projects/llm_engineering/\n",
    "                  community-contributions/playwright-bojan\")\n",
    "if str(scraper_path) not in sys.path:\n",
    "    import sys\n",
    "    sys.path.insert(0, str(scraper_path))\n",
    "\n",
    "# Clear cache if needed\n",
    "if 'openai_scraper_playwright' in sys.modules:\n",
    "    del sys.modules['openai_scraper_playwright']\n",
    "\n",
    "from openai_scraper_playwright import analyze_content"
   ]
  },
  {
   "cell_type": "code",
   "execution_count": null,
   "id": "fd3d6d76",
   "metadata": {},
   "outputs": [],
   "source": [
    "result = await analyze_content(url=\"https://openai.com\")\n",
    "from IPython.display import Markdown, display\n",
    "display(Markdown(result))"
   ]
  }
 ],
 "metadata": {
  "kernelspec": {
   "display_name": "Python (WSL-Lakov)",
   "language": "python",
   "name": "lakov-wsl"
  },
  "language_info": {
   "codemirror_mode": {
    "name": "ipython",
    "version": 3
   },
   "file_extension": ".py",
   "mimetype": "text/x-python",
   "name": "python",
   "nbconvert_exporter": "python",
   "pygments_lexer": "ipython3",
   "version": "3.12.7"
  }
 },
 "nbformat": 4,
 "nbformat_minor": 5
}
