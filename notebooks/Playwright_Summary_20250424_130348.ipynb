{
 "cells": [
  {
   "cell_type": "markdown",
   "id": "61517c65",
   "metadata": {},
   "source": [
    "# ✅ Playwright Scraper Showcase (Auto-Generated)\n",
    "\n",
    "This notebook demonstrates asynchronous scraping and summarization of:\n",
    "\n",
    "**URL:** `https://openai.com`"
   ]
  },
  {
   "cell_type": "code",
   "execution_count": null,
   "id": "6bdbf387",
   "metadata": {},
   "outputs": [],
   "source": [
    "import sys\n",
    "import os\n",
    "from pathlib import Path\n",
    "\n",
    "# Add scraper module path\n",
    "scraper_path = Path(\"/home/lakov/projects/llm_engineering/community-contributions/playwright-bojan\")\n",
    "if str(scraper_path) not in sys.path:\n",
    "    sys.path.insert(0, str(scraper_path))\n",
    "\n",
    "# Clear cache if needed\n",
    "if \"openai_scraper_playwright\" in sys.modules:\n",
    "    del sys.modules[\"openai_scraper_playwright\"]\n",
    "\n",
    "import asyncio\n",
    "import nest_asyncio\n",
    "nest_asyncio.apply()\n",
    "\n",
    "from openai_scraper_playwright import analyze_content\n"
   ]
  },
  {
   "cell_type": "code",
   "execution_count": null,
   "id": "7df5f405",
   "metadata": {},
   "outputs": [],
   "source": [
    "result = await analyze_content(url=\"https://openai.com\")\n",
    "from IPython.display import Markdown, display\n",
    "display(Markdown(result))\n"
   ]
  }
 ],
 "metadata": {},
 "nbformat": 4,
 "nbformat_minor": 5
}
