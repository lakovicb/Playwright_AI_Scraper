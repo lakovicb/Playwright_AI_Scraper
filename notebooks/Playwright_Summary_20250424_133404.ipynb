{
 "cells": [
  {
   "cell_type": "markdown",
   "id": "4e0e41fb",
   "metadata": {},
   "source": [
    "# ✅ Playwright Scraper Showcase (Auto-Generated)\n",
    "\n",
    "This notebook demonstrates asynchronous scraping and\n",
    "summarization of:\n",
    "\n",
    "**URL:** `https://openai.com`"
   ]
  },
  {
   "cell_type": "code",
   "execution_count": 1,
   "id": "e9d46009",
   "metadata": {},
   "outputs": [],
   "source": [
    "from pathlib import Path\n",
    "import os\n",
    "import importlib\n",
    "import asyncio\n",
    "import nest_asyncio\n",
    "\n",
    "nest_asyncio.apply()\n",
    "\n",
    "# Add scraper module path\n",
    "scraper_path = Path(\"/home/lakov/projects/llm_engineering/\" +\n",
    "                   \"community-contributions/playwright-bojan\")\n",
    "if str(scraper_path) not in sys.path:\n",
    "    import sys\n",
    "    sys.path.insert(0, str(scraper_path))\n",
    "\n",
    "# Clear cache if needed\n",
    "if 'openai_scraper_playwright' in sys.modules:\n",
    "    del sys.modules['openai_scraper_playwright']\n",
    "\n",
    "from openai_scraper_playwright import analyze_content"
   ]
  },
  {
   "cell_type": "code",
   "execution_count": 2,
   "id": "040c3ab4",
   "metadata": {},
   "outputs": [
    {
     "data": {
      "text/markdown": [
       "The page you provided appears to be a comprehensive overview of OpenAI's website, featuring various sections and functionalities. Here’s a detailed analysis of the content and structure:\n",
       "\n",
       "### Main Features and Sections:\n",
       "1. **Navigation and Accessibility:**\n",
       "   - The page includes options to log in and switch between different OpenAI services such as ChatGPT, Sora, and the API Platform, enhancing user accessibility.\n",
       "   - It provides links to research and safety information, indicating a focus on transparency and user education.\n",
       "\n",
       "2. **Service Offerings:**\n",
       "   - Detailed sections on ChatGPT, Sora, and the API Platform suggest a diverse range of products aimed at different user needs, from casual inquiries to more structured API services for businesses.\n",
       "\n",
       "3. **Content Types:**\n",
       "   - The page lists various content types such as news, stories, and latest research publications, which cater to users looking for updates, in-depth information, and real-world applications of OpenAI's technology.\n",
       "\n",
       "4. **Interactive Elements:**\n",
       "   - The page prompts users with a variety of interactive requests like planning trips, learning new skills, or getting help with coding, showcasing the versatility and interactive nature of OpenAI’s tools.\n",
       "\n",
       "5. **Business and Educational Applications:**\n",
       "   - There are specific sections for business applications and educational tools, indicating a strategic focus on these markets. This includes automating tasks in finance and legal sectors and building custom educational tools.\n",
       "\n",
       "6. **Multilingual Support:**\n",
       "   - The page offers interactions in multiple languages, reflecting OpenAI's global reach and inclusivity.\n",
       "\n",
       "7. **Research and Development:**\n",
       "   - Links to recent research and publications demonstrate OpenAI's commitment to advancing AI technology and sharing findings with the public and academic community.\n",
       "\n",
       "8. **User Engagement and Support:**\n",
       "   - The page includes options for downloading tools, logging into platforms, and accessing help centers and forums, which facilitate user engagement and support.\n",
       "\n",
       "9. **Legal and Privacy:**\n",
       "   - Terms of use, privacy policy, and cookie policy are accessible, ensuring users can easily find information on data usage, security, and privacy.\n",
       "\n",
       "### Layout and User Experience:\n",
       "- The structure is user-friendly with clear categorization and easy navigation paths.\n",
       "- Interactive prompts are strategically placed to engage users immediately with the capabilities of OpenAI’s offerings.\n",
       "- The design likely supports responsiveness to cater to various devices, enhancing accessibility.\n",
       "\n",
       "### Marketing and Communication Strategy:\n",
       "- The content is geared towards both end-users and businesses, indicating a dual-focused marketing strategy.\n",
       "- The inclusion of recent updates, stories, and research publications serves as a dynamic method to keep users informed and engaged.\n",
       "\n",
       "### Overall Impression:\n",
       "The page is designed to be a comprehensive portal to OpenAI's resources, products, and updates, with a strong emphasis on user interaction, accessibility, and education. It effectively communicates the breadth of OpenAI's offerings and its commitment to advancing AI technology responsibly and transparently."
      ],
      "text/plain": [
       "<IPython.core.display.Markdown object>"
      ]
     },
     "metadata": {},
     "output_type": "display_data"
    }
   ],
   "source": [
    "result = await analyze_content(url=\"https://openai.com\")\n",
    "from IPython.display import Markdown, display\n",
    "display(Markdown(result))"
   ]
  },
  {
   "cell_type": "code",
   "execution_count": null,
   "id": "1083b819-5ea1-4503-8e95-f41c09f5c902",
   "metadata": {},
   "outputs": [],
   "source": []
  }
 ],
 "metadata": {
  "kernelspec": {
   "display_name": "Python (WSL-Lakov)",
   "language": "python",
   "name": "lakov-wsl"
  },
  "language_info": {
   "codemirror_mode": {
    "name": "ipython",
    "version": 3
   },
   "file_extension": ".py",
   "mimetype": "text/x-python",
   "name": "python",
   "nbconvert_exporter": "python",
   "pygments_lexer": "ipython3",
   "version": "3.12.7"
  }
 },
 "nbformat": 4,
 "nbformat_minor": 5
}
