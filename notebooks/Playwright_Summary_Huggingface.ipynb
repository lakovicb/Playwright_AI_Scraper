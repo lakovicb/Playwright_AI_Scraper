{
 "cells": [
  {
   "cell_type": "markdown",
   "id": "35569daf",
   "metadata": {},
   "source": [
    "# ✅ Playwright Scraper Showcase (Auto-Generated)\n",
    "\n",
    "This notebook demonstrates asynchronous scraping and\n",
    "summarization of:\n",
    "\n",
    "**URL:** `https://huggingface.co`"
   ]
  },
  {
   "cell_type": "code",
   "execution_count": 1,
   "id": "58e97c8c",
   "metadata": {},
   "outputs": [],
   "source": [
    "from pathlib import Path\n",
    "import os\n",
    "import importlib\n",
    "import asyncio\n",
    "import nest_asyncio\n",
    "\n",
    "nest_asyncio.apply()\n",
    "\n",
    "# Add scraper module path\n",
    "scraper_path = Path(\"/home/lakov/projects/llm_engineering/\") / \"community-contributions/playwright-bojan\"\n",
    "if str(scraper_path) not in sys.path:\n",
    "    import sys\n",
    "    sys.path.insert(0, str(scraper_path))\n",
    "\n",
    "# Clear cache if needed\n",
    "if 'openai_scraper_playwright' in sys.modules:\n",
    "    del sys.modules['openai_scraper_playwright']\n",
    "\n",
    "from openai_scraper_playwright import analyze_content"
   ]
  },
  {
   "cell_type": "code",
   "execution_count": 2,
   "id": "f6124258",
   "metadata": {},
   "outputs": [
    {
     "data": {
      "text/markdown": [
       "The page you've provided appears to be from the Hugging Face website, a popular hub for machine learning resources. Here's a detailed analysis of the content and structure of the page:\n",
       "\n",
       "### Overview\n",
       "Hugging Face is a platform focused on the collaborative development of machine learning models, datasets, and applications. It serves as a community and resource for developers, researchers, and enterprises involved in artificial intelligence (AI).\n",
       "\n",
       "### Key Sections\n",
       "\n",
       "#### 1. **Introduction and Welcome Messages**\n",
       "   - The page starts with welcoming new members and partners to the Hugging Face Hub, highlighting its ongoing expansion and inclusivity in the AI community.\n",
       "\n",
       "#### 2. **Core Offerings**\n",
       "   - **Models**: Over 1 million AI models are available, with trending models listed along with their recent updates and popularity metrics.\n",
       "   - **Datasets**: There are over 250,000 datasets available for various machine learning tasks, with details on recent updates and user engagement.\n",
       "   - **Spaces**: This section showcases applications built using Hugging Face, providing tools like DeepSite and Dia 1.6B for specific functionalities such as generating applications or audio from text.\n",
       "\n",
       "#### 3. **Community and Collaboration**\n",
       "   - The platform emphasizes collaboration, allowing users to host and collaborate on public models, datasets, and applications. It encourages users to build their ML profiles by sharing their work.\n",
       "\n",
       "#### 4. **Tools and Resources**\n",
       "   - Hugging Face offers several tools and libraries to aid in machine learning development, including Transformers, Diffusers, and Tokenizers. These tools support various programming environments and are optimized for performance.\n",
       "\n",
       "#### 5. **Enterprise and Pricing**\n",
       "   - The site provides options for enterprise solutions with enhanced security and support, and compute services with GPU deployment starting at $0.60/hour.\n",
       "\n",
       "#### 6. **Community Engagement**\n",
       "   - Notable organizations like AI2, Meta, Amazon, and Google are listed as users of the platform, indicating its wide acceptance and use across different sectors.\n",
       "\n",
       "#### 7. **Educational and Support Resources**\n",
       "   - Hugging Face also focuses on education and support through blogs, forums, and documentation to help users learn and solve issues related to machine learning.\n",
       "\n",
       "#### 8. **Footer**\n",
       "   - Contains links to additional resources, social media, company information, and legal terms.\n",
       "\n",
       "### Analysis\n",
       "Hugging Face effectively uses its platform to cater to both individual developers and large enterprises. The layout is designed to facilitate easy access to resources, promote community engagement, and encourage collaboration. The inclusion of real-time updates, a wide array of tools, and detailed documentation supports users at all levels of machine learning expertise.\n",
       "\n",
       "### Conclusion\n",
       "The Hugging Face website is a comprehensive resource for anyone involved in machine learning, from beginners to advanced practitioners. It promotes an open-source philosophy and community-driven development, which is crucial for the advancement and democratization of AI technologies."
      ],
      "text/plain": [
       "<IPython.core.display.Markdown object>"
      ]
     },
     "metadata": {},
     "output_type": "display_data"
    }
   ],
   "source": [
    "result = await analyze_content(url=\"https://huggingface.co\")\n",
    "from IPython.display import Markdown, display\n",
    "display(Markdown(result))"
   ]
  },
  {
   "cell_type": "code",
   "execution_count": null,
   "id": "59766299-4b38-4d63-b4ce-20461aac99a5",
   "metadata": {},
   "outputs": [],
   "source": []
  }
 ],
 "metadata": {
  "kernelspec": {
   "display_name": "Python (WSL-Lakov)",
   "language": "python",
   "name": "lakov-wsl"
  },
  "language_info": {
   "codemirror_mode": {
    "name": "ipython",
    "version": 3
   },
   "file_extension": ".py",
   "mimetype": "text/x-python",
   "name": "python",
   "nbconvert_exporter": "python",
   "pygments_lexer": "ipython3",
   "version": "3.12.7"
  }
 },
 "nbformat": 4,
 "nbformat_minor": 5
}
