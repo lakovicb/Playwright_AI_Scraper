{
 "cells": [
  {
   "cell_type": "markdown",
   "id": "477fc942",
   "metadata": {},
   "source": [
    "# ✅ Playwright Scraper Showcase (Auto-Generated)\n",
    "\n",
    "This notebook demonstrates asynchronous scraping and\n",
    "summarization of:\n",
    "\n",
    "**URL:** `https://runwayml.com`"
   ]
  },
  {
   "cell_type": "code",
   "execution_count": 1,
   "id": "3d9ea3ed",
   "metadata": {},
   "outputs": [],
   "source": [
    "from pathlib import Path\n",
    "import os\n",
    "import importlib\n",
    "import asyncio\n",
    "import nest_asyncio\n",
    "\n",
    "nest_asyncio.apply()\n",
    "\n",
    "# Add scraper module path\n",
    "scraper_path = Path(\"/home/lakov/projects/llm_engineering/\") / \"community-contributions/playwright-bojan\"\n",
    "if str(scraper_path) not in sys.path:\n",
    "    import sys\n",
    "    sys.path.insert(0, str(scraper_path))\n",
    "\n",
    "# Clear cache if needed\n",
    "if 'openai_scraper_playwright' in sys.modules:\n",
    "    del sys.modules['openai_scraper_playwright']\n",
    "\n",
    "from openai_scraper_playwright import analyze_content"
   ]
  },
  {
   "cell_type": "code",
   "execution_count": 2,
   "id": "482e94a7",
   "metadata": {},
   "outputs": [
    {
     "data": {
      "text/markdown": [
       "The page you provided appears to be from a website for Runway, a global AI research and media company that specializes in the development and application of artificial intelligence technologies for media production. The company seems to be focused on integrating AI into various aspects of filmmaking and storytelling, leveraging their proprietary Gen-4 AI models. Here's a detailed analysis of the different sections and elements of the page:\n",
       "\n",
       "1. **Header Sections**:\n",
       "   - **Research, Product, Studios, Company**: These are likely the main categories of the website, each representing a different aspect of Runway's operations—AI research, products (tools and APIs), media production (studios), and corporate information.\n",
       "   - **Get Started**: This is typically a call-to-action button aimed at new users, encouraging them to begin using Runway's services or products.\n",
       "\n",
       "2. **Main Content**:\n",
       "   - **Made with Gen-4**: This section highlights a series of short films created using Runway's Gen-4 AI technology, showcasing its capabilities in media generation and narrative consistency.\n",
       "   - **Technology for a new era of media and storytelling**: This statement emphasizes Runway's mission to revolutionize media production through advanced AI technology.\n",
       "   - **Runway Studios**: Described as the production arm of Runway, it focuses on producing various media formats like films, documentaries, and music videos.\n",
       "\n",
       "3. **Featured Projects and Initiatives**:\n",
       "   - **AI Film Festival, Telescope Magazine, Creative Dialogues**: These initiatives suggest that Runway is not only involved in technology development but also in fostering a community and culture around AI in creative industries.\n",
       "   - **Customer Stories and Enterprise Partners**: Sections like these are designed to build credibility and showcase how top creatives and well-known brands are utilizing Runway's technology.\n",
       "\n",
       "4. **Research and Development**:\n",
       "   - **Our Research**: Runway claims to be pioneering in general-purpose multimodal simulators, which are likely sophisticated AI models capable of understanding and generating multi-modal data (text, images, video, etc.).\n",
       "   - **Publications and News**: Regular updates and publications indicate an active engagement in advancing AI research and keeping the community informed.\n",
       "\n",
       "5. **Product Offerings**:\n",
       "   - **API, Gen-4, Act-One, Frames, General World Models**: These products are probably specific AI tools and models developed by Runway for various uses in media production.\n",
       "   - **Use Cases and Staff Picks**: These sections likely provide examples and recommendations on how Runway's tools can be applied in different creative contexts.\n",
       "\n",
       "6. **Footer Sections**:\n",
       "   - **Links to social media, help center, careers, news, and more**: These are standard elements aimed at engagement, support, and recruitment.\n",
       "   - **Legal and policy links**: Terms of use, privacy policy, and other legal notices ensure transparency and user trust.\n",
       "\n",
       "7. **Design and Usability**:\n",
       "   - The layout seems user-friendly with clear categorization and accessible information, which is crucial for both potential customers and partners.\n",
       "\n",
       "Overall, the page presents Runway as a cutting-edge AI company deeply integrated into the creative industries, pushing the boundaries of traditional media production with its innovative technologies. The emphasis on partnerships, community engagement, and extensive research and development efforts highlight Runway's commitment to leading the AI-driven transformation in media and storytelling."
      ],
      "text/plain": [
       "<IPython.core.display.Markdown object>"
      ]
     },
     "metadata": {},
     "output_type": "display_data"
    }
   ],
   "source": [
    "result = await analyze_content(url=\"https://runwayml.com\")\n",
    "from IPython.display import Markdown, display\n",
    "display(Markdown(result))"
   ]
  },
  {
   "cell_type": "code",
   "execution_count": null,
   "id": "758a8c96-e086-414d-a647-bf814fdded58",
   "metadata": {},
   "outputs": [],
   "source": []
  }
 ],
 "metadata": {
  "kernelspec": {
   "display_name": "Python (WSL-Lakov)",
   "language": "python",
   "name": "lakov-wsl"
  },
  "language_info": {
   "codemirror_mode": {
    "name": "ipython",
    "version": 3
   },
   "file_extension": ".py",
   "mimetype": "text/x-python",
   "name": "python",
   "nbconvert_exporter": "python",
   "pygments_lexer": "ipython3",
   "version": "3.12.7"
  }
 },
 "nbformat": 4,
 "nbformat_minor": 5
}
