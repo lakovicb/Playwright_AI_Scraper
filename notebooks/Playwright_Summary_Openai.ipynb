{
 "cells": [
  {
   "cell_type": "markdown",
   "id": "100b4312",
   "metadata": {},
   "source": [
    "# ✅ Playwright Scraper Showcase (Auto-Generated)\n",
    "\n",
    "This notebook demonstrates asynchronous scraping and\n",
    "summarization of:\n",
    "\n",
    "**URL:** `https://openai.com`"
   ]
  },
  {
   "cell_type": "code",
   "execution_count": 1,
   "id": "b3a71616",
   "metadata": {},
   "outputs": [],
   "source": [
    "from pathlib import Path\n",
    "import os\n",
    "import importlib\n",
    "import asyncio\n",
    "import nest_asyncio\n",
    "\n",
    "nest_asyncio.apply()\n",
    "\n",
    "# Add scraper module path\n",
    "scraper_path = Path(\"/home/lakov/projects/llm_engineering/\") / \"community-contributions/playwright-bojan\"\n",
    "if str(scraper_path) not in sys.path:\n",
    "    import sys\n",
    "    sys.path.insert(0, str(scraper_path))\n",
    "\n",
    "# Clear cache if needed\n",
    "if 'openai_scraper_playwright' in sys.modules:\n",
    "    del sys.modules['openai_scraper_playwright']\n",
    "\n",
    "from openai_scraper_playwright import analyze_content"
   ]
  },
  {
   "cell_type": "code",
   "execution_count": 2,
   "id": "8d5d8979",
   "metadata": {},
   "outputs": [
    {
     "data": {
      "text/markdown": [
       "The page you provided appears to be a comprehensive overview of a website, likely belonging to OpenAI, showcasing various features, updates, and resources related to its products and services. Here's a detailed analysis of the content and structure of the page:\n",
       "\n",
       "### Structure and Navigation\n",
       "- **Main Navigation**: Includes links to different sections such as ChatGPT, Sora, API Platform, Research, Safety, For Business, Stories, and Company News. This suggests a wide range of offerings from AI-powered chat interfaces to business solutions and research publications.\n",
       "- **Login and Language Options**: Options to log in and switch languages indicate a user-friendly interface catering to a global audience.\n",
       "- **Secondary Navigation**: Further navigation options are available for deeper exploration into specific areas like Research, Safety, and different products like OpenAI o1 and GPT-4o.\n",
       "\n",
       "### Content Categories\n",
       "- **Product Introductions**: New products and updates like GPT-4.1 and image generation models are highlighted, indicating ongoing development and enhancement of OpenAI's offerings.\n",
       "- **Research and Publications**: The page lists recent research outputs such as BrowseComp and PaperBench, emphasizing OpenAI's commitment to advancing AI technology and its applications.\n",
       "- **Business Applications**: There's a focus on integrating AI into business workflows, with mentions of automating tasks in finance and legal sectors, showing the practical applications of AI in professional settings.\n",
       "- **Educational and Practical Uses**: Examples include building a custom math tutor and using AI for economic reasoning, showcasing how OpenAI's technology can be applied in educational contexts.\n",
       "- **Safety and Security**: The site includes a section on safety approaches and security policies, reflecting the importance of these aspects in AI development and deployment.\n",
       "\n",
       "### User Interaction\n",
       "- **Calls to Action**: Various calls to action such as \"Download,\" \"Log in,\" and \"Read more\" encourage user engagement with the content and products.\n",
       "- **Help and Support**: Links to a Help Center and terms, policies, and cookie management options provide users with necessary support and information about their rights and options.\n",
       "\n",
       "### Visual and Technical Design\n",
       "- **Accessibility**: The option to skip to main content at the beginning suggests that the website is designed with accessibility in mind.\n",
       "- **Responsive Links**: Many items open in new windows, ensuring that users do not lose their current page place while exploring additional resources.\n",
       "\n",
       "### Language and Tone\n",
       "- The language used is professional, informative, and geared towards users with varying degrees of familiarity with AI, from beginners to experts. The tone is inviting and educational, aiming to inform users about the capabilities and benefits of OpenAI's products and research.\n",
       "\n",
       "### Overall Impression\n",
       "The page serves as a portal to OpenAI's diverse offerings, ranging from consumer-facing products like ChatGPT to more technical and specialized tools for businesses and researchers. It effectively communicates the breadth of applications and the continuous innovation at OpenAI, positioning the company as a leader in AI technology. The design and structure of the page facilitate easy navigation and user engagement, making it a valuable resource for anyone interested in AI technologies."
      ],
      "text/plain": [
       "<IPython.core.display.Markdown object>"
      ]
     },
     "metadata": {},
     "output_type": "display_data"
    }
   ],
   "source": [
    "result = await analyze_content(url=\"https://openai.com\")\n",
    "from IPython.display import Markdown, display\n",
    "display(Markdown(result))"
   ]
  },
  {
   "cell_type": "code",
   "execution_count": null,
   "id": "467a0fb3-5b40-43bb-bf06-b6c62b54d4af",
   "metadata": {},
   "outputs": [],
   "source": []
  }
 ],
 "metadata": {
  "kernelspec": {
   "display_name": "Python (WSL-Lakov)",
   "language": "python",
   "name": "lakov-wsl"
  },
  "language_info": {
   "codemirror_mode": {
    "name": "ipython",
    "version": 3
   },
   "file_extension": ".py",
   "mimetype": "text/x-python",
   "name": "python",
   "nbconvert_exporter": "python",
   "pygments_lexer": "ipython3",
   "version": "3.12.7"
  }
 },
 "nbformat": 4,
 "nbformat_minor": 5
}
