{
 "cells": [
  {
   "cell_type": "markdown",
   "id": "7ba1908b",
   "metadata": {},
   "source": [
    "# ✅ Playwright Scraper Showcase (Auto-Generated)\n",
    "\n",
    "This notebook demonstrates an asynchronous scraping and summarization of:\n",
    "\n",
    "**URL:** `https://openai.com`\n",
    "\n",
    "----"
   ]
  },
  {
   "cell_type": "code",
   "execution_count": 1,
   "id": "3016cccd",
   "metadata": {},
   "outputs": [],
   "source": [
    "import sys\n",
    "import os\n",
    "from pathlib import Path\n",
    "\n",
    "# Podesi put do lokalnog scrapper modula\n",
    "scraper_path = Path(\n",
    "    \"/home/lakov/projects/llm_engineering/community-contributions/playwright-bojan\")\n",
    "if str(scraper_path) not in sys.path:\n",
    "    sys.path.insert(0, str(scraper_path))\n",
    "\n",
    "# Osvježi modul ako je već učitan\n",
    "if \"openai_scraper_playwright\" in sys.modules:\n",
    "    del sys.modules[\"openai_scraper_playwright\"]\n",
    "\n",
    "import asyncio\n",
    "import nest_asyncio\n",
    "nest_asyncio.apply()\n",
    "\n",
    "from openai_scraper_playwright import analyze_content"
   ]
  },
  {
   "cell_type": "code",
   "execution_count": 2,
   "id": "98bf6d1a",
   "metadata": {},
   "outputs": [
    {
     "data": {
      "text/markdown": [
       "The page you provided appears to be a comprehensive overview of OpenAI's offerings, including various products, services, and research initiatives. Here’s a detailed analysis of the content and structure:\n",
       "\n",
       "### Structure and Navigation\n",
       "The page is structured to provide easy navigation for users, with clear sections and links to various aspects of OpenAI's services and products. The main sections include:\n",
       "- **Main Navigation**: Direct links to different OpenAI platforms like ChatGPT, Sora, API Platform, and sections on Research, Safety, and Company information.\n",
       "- **Content Sections**: These are further divided into specific areas like product introductions, latest news, stories, and research updates.\n",
       "\n",
       "### Content Analysis\n",
       "1. **Product and Service Offerings**:\n",
       "   - **ChatGPT and Sora**: There are mentions of specific tools like ChatGPT and Sora, indicating their importance in OpenAI's product lineup. Each tool appears to have dedicated sections for deeper exploration.\n",
       "   - **API Platform**: This is highlighted with links to more detailed information, suggesting a focus on providing scalable AI solutions to developers and businesses.\n",
       "\n",
       "2. **Research and Publications**:\n",
       "   - The page lists recent publications and research like \"BrowseComp\" and \"PaperBench\", indicating OpenAI's ongoing commitment to advancing AI technology and its applications.\n",
       "\n",
       "3. **Business Applications**:\n",
       "   - There are sections that discuss the integration of AI into business workflows, automating tasks in finance and legal sectors, which suggests a strong business-oriented approach to AI application.\n",
       "\n",
       "4. **Educational and Informative Content**:\n",
       "   - The page offers educational content such as tutorials and guides (\"Building a custom math tutor powered by ChatGPT\"), which can help users understand and utilize AI tools effectively.\n",
       "\n",
       "5. **Multilingual and Diverse Requests**:\n",
       "   - The content includes a variety of user prompts in different languages and contexts, showcasing the versatility and global reach of OpenAI’s tools.\n",
       "\n",
       "6. **Safety and Security**:\n",
       "   - There are dedicated sections for safety, security, and privacy, emphasizing OpenAI's commitment to responsible AI development and deployment.\n",
       "\n",
       "### User Engagement and Interaction\n",
       "- **Interactive Prompts**: The page includes various prompts for engaging with AI tools, suggesting a user-friendly approach to interact directly from the page.\n",
       "- **Accessibility and Language Options**: The inclusion of multiple languages caters to a global audience, enhancing accessibility and usability.\n",
       "\n",
       "### Visual and Technical Design\n",
       "- The design seems to be clean and user-centric, with emphasis on readability and easy navigation.\n",
       "- Links to open new windows for specific tools or platforms indicate a design choice made for keeping the user on the original page while exploring additional information.\n",
       "\n",
       "### Conclusion\n",
       "The page is a well-organized portal to OpenAI's extensive range of products, research, and services, designed to cater to both general and specialized audiences interested in AI. It effectively communicates the breadth of OpenAI's capabilities and its focus on innovation, safety, and practical applications in various sectors."
      ],
      "text/plain": [
       "<IPython.core.display.Markdown object>"
      ]
     },
     "metadata": {},
     "output_type": "display_data"
    }
   ],
   "source": [
    "result = await analyze_content(url=\"https://openai.com\")\n",
    "\n",
    "from IPython.display import Markdown, display\n",
    "display(Markdown(result))"
   ]
  },
  {
   "cell_type": "code",
   "execution_count": null,
   "id": "21737b11-4e68-481c-af3d-6981e331f364",
   "metadata": {},
   "outputs": [],
   "source": []
  }
 ],
 "metadata": {
  "kernelspec": {
   "display_name": "Python (WSL-Lakov)",
   "language": "python",
   "name": "lakov-wsl"
  },
  "language_info": {
   "codemirror_mode": {
    "name": "ipython",
    "version": 3
   },
   "file_extension": ".py",
   "mimetype": "text/x-python",
   "name": "python",
   "nbconvert_exporter": "python",
   "pygments_lexer": "ipython3",
   "version": "3.12.7"
  }
 },
 "nbformat": 4,
 "nbformat_minor": 5
}
