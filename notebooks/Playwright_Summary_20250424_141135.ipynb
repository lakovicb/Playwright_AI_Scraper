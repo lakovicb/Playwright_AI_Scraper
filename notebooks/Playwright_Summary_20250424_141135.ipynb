{
 "cells": [
  {
   "cell_type": "markdown",
   "id": "0dfbaf60",
   "metadata": {},
   "source": [
    "# ✅ Playwright Scraper Showcase (Auto-Generated)\n",
    "\n",
    "This notebook demonstrates asynchronous scraping and\n",
    "summarization of:\n",
    "\n",
    "**URL:** `https://www.anthropic.com`"
   ]
  },
  {
   "cell_type": "code",
   "execution_count": 1,
   "id": "6c1a9d01",
   "metadata": {},
   "outputs": [],
   "source": [
    "from pathlib import Path\n",
    "import os\n",
    "import importlib\n",
    "import asyncio\n",
    "import nest_asyncio\n",
    "\n",
    "nest_asyncio.apply()\n",
    "\n",
    "# Add scraper module path\n",
    "scraper_path = Path(\"/home/lakov/projects/llm_engineering/\") / \"community-contributions/playwright-bojan\"\n",
    "if str(scraper_path) not in sys.path:\n",
    "    import sys\n",
    "    sys.path.insert(0, str(scraper_path))\n",
    "\n",
    "# Clear cache if needed\n",
    "if 'openai_scraper_playwright' in sys.modules:\n",
    "    del sys.modules['openai_scraper_playwright']\n",
    "\n",
    "from openai_scraper_playwright import analyze_content"
   ]
  },
  {
   "cell_type": "code",
   "execution_count": 2,
   "id": "031653b2",
   "metadata": {},
   "outputs": [
    {
     "data": {
      "text/markdown": [
       "The page you provided appears to be from a website for \"Claude.ai,\" a company named Anthropic that specializes in artificial intelligence (AI) technology. The content is structured to offer a comprehensive overview of the company's products, research, and commitments to AI safety and societal well-being. Here's a detailed analysis of the various sections and elements of the page:\n",
       "\n",
       "### Main Sections\n",
       "\n",
       "1. **Product Introduction (Claude 3.7 Sonnet)**\n",
       "   - This section introduces the latest AI model developed by Anthropic, named Claude 3.7 Sonnet. It highlights the model's availability and encourages interaction through a \"Talk to Claude\" feature.\n",
       "\n",
       "2. **API and Development Tools**\n",
       "   - Users are invited to build AI-powered applications using Claude, suggesting a focus on accessibility and customization for developers.\n",
       "\n",
       "3. **Company Philosophy and Mission**\n",
       "   - Anthropic emphasizes its commitment to the long-term well-being of humanity, acknowledging the unpredictability of AI impacts but stressing the importance of responsible development.\n",
       "\n",
       "4. **Research and Policy**\n",
       "   - The page lists various research topics and policy initiatives, including AI safety, economic impacts, and model interpretability. This indicates a proactive approach to addressing the broader implications of AI technology.\n",
       "\n",
       "5. **Featured Content and Updates**\n",
       "   - Recent articles and updates showcase ongoing projects and insights into AI development, such as the \"Anthropic Economic Index\" and \"Alignment faking in large language models.\"\n",
       "\n",
       "6. **Career Opportunities**\n",
       "   - A call to action for joining the company suggests growth and the ongoing development of new AI solutions.\n",
       "\n",
       "### Navigation and Additional Information\n",
       "\n",
       "- The navigation menu includes links to various sections like Solutions, Research, Commitments, and Learning resources, providing a structured way to explore all aspects of the company.\n",
       "- Footer links offer additional resources such as customer support, privacy policies, and terms of service, indicating a well-rounded and user-focused website structure.\n",
       "\n",
       "### Implications and Insights\n",
       "\n",
       "- **AI Safety and Ethics**: Anthropic appears to place a strong emphasis on ethical AI development, with multiple mentions of safety, responsible scaling, and transparency. This could appeal to stakeholders concerned about the ethical implications of AI.\n",
       "- **Educational Commitment**: The presence of an \"Anthropic Academy\" suggests an investment in education and training, potentially aimed at fostering a skilled workforce or informed user base.\n",
       "- **Commercial and Educational Plans**: The mention of various plans (team, enterprise, education) indicates a scalable business model catering to different user segments.\n",
       "\n",
       "### Overall Impression\n",
       "\n",
       "The Claude.ai page presents a company deeply engaged in advancing AI technology while maintaining a strong ethical stance. The structured presentation of products, research, and educational content, alongside clear navigation options, reflects a user-centric approach designed to appeal to both developers and broader audiences interested in AI's potential and impact on society."
      ],
      "text/plain": [
       "<IPython.core.display.Markdown object>"
      ]
     },
     "metadata": {},
     "output_type": "display_data"
    }
   ],
   "source": [
    "result = await analyze_content(url=\"https://www.anthropic.com\")\n",
    "from IPython.display import Markdown, display\n",
    "display(Markdown(result))"
   ]
  },
  {
   "cell_type": "code",
   "execution_count": null,
   "id": "0c7b9997-966d-4867-89b0-8e91d44847a3",
   "metadata": {},
   "outputs": [],
   "source": []
  }
 ],
 "metadata": {
  "kernelspec": {
   "display_name": "Python (WSL-Lakov)",
   "language": "python",
   "name": "lakov-wsl"
  },
  "language_info": {
   "codemirror_mode": {
    "name": "ipython",
    "version": 3
   },
   "file_extension": ".py",
   "mimetype": "text/x-python",
   "name": "python",
   "nbconvert_exporter": "python",
   "pygments_lexer": "ipython3",
   "version": "3.12.7"
  }
 },
 "nbformat": 4,
 "nbformat_minor": 5
}
