


import sys
import os
from pathlib import Path

# Podesi put do lokalnog scrapper modula
scraper_path = Path(
    "/home/lakov/projects/llm_engineering/community-contributions/playwright-bojan")
if str(scraper_path) not in sys.path:
    sys.path.insert(0, str(scraper_path))

# Osvježi modul ako je već učitan
if "openai_scraper_playwright" in sys.modules:
    del sys.modules["openai_scraper_playwright"]

import asyncio
import nest_asyncio
nest_asyncio.apply()

from openai_scraper_playwright import analyze_content


result = await analyze_content(url="https://openai.com")

from IPython.display import Markdown, display
display(Markdown(result))



