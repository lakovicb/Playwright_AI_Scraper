


from pathlib import Path
import os
import importlib
import asyncio
import nest_asyncio

nest_asyncio.apply()

# Add scraper module path
scraper_path = Path("/home/lakov/projects/llm_engineering/
                  community-contributions/playwright-bojan")
if str(scraper_path) not in sys.path:
    import sys
    sys.path.insert(0, str(scraper_path))

# Clear cache if needed
if 'openai_scraper_playwright' in sys.modules:
    del sys.modules['openai_scraper_playwright']

from openai_scraper_playwright import analyze_content


result = await analyze_content(url="https://openai.com")
from IPython.display import Markdown, display
display(Markdown(result))
